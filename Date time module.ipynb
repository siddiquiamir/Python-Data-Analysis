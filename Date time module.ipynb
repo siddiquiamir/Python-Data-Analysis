{
 "cells": [
  {
   "cell_type": "code",
   "execution_count": 1,
   "metadata": {},
   "outputs": [],
   "source": [
    "from datetime import datetime"
   ]
  },
  {
   "cell_type": "code",
   "execution_count": 2,
   "metadata": {},
   "outputs": [],
   "source": [
    "t1 = datetime.now()"
   ]
  },
  {
   "cell_type": "code",
   "execution_count": 3,
   "metadata": {},
   "outputs": [
    {
     "data": {
      "text/plain": [
       "datetime.datetime(2022, 7, 16, 11, 34, 0, 278436)"
      ]
     },
     "execution_count": 3,
     "metadata": {},
     "output_type": "execute_result"
    }
   ],
   "source": [
    "t1"
   ]
  },
  {
   "cell_type": "code",
   "execution_count": 4,
   "metadata": {},
   "outputs": [],
   "source": [
    "t2 = datetime(1900, 1, 1)"
   ]
  },
  {
   "cell_type": "code",
   "execution_count": 5,
   "metadata": {},
   "outputs": [],
   "source": [
    "diff = t1-t2"
   ]
  },
  {
   "cell_type": "code",
   "execution_count": 6,
   "metadata": {},
   "outputs": [
    {
     "data": {
      "text/plain": [
       "datetime.timedelta(days=44756, seconds=41640, microseconds=278436)"
      ]
     },
     "execution_count": 6,
     "metadata": {},
     "output_type": "execute_result"
    }
   ],
   "source": [
    "diff"
   ]
  },
  {
   "cell_type": "code",
   "execution_count": 7,
   "metadata": {},
   "outputs": [
    {
     "data": {
      "text/plain": [
       "datetime.timedelta"
      ]
     },
     "execution_count": 7,
     "metadata": {},
     "output_type": "execute_result"
    }
   ],
   "source": [
    "type(diff)"
   ]
  },
  {
   "cell_type": "code",
   "execution_count": 8,
   "metadata": {},
   "outputs": [],
   "source": [
    "import pandas as pd"
   ]
  },
  {
   "cell_type": "code",
   "execution_count": 9,
   "metadata": {},
   "outputs": [],
   "source": [
    "df = pd.read_csv(\"emp.csv\")"
   ]
  },
  {
   "cell_type": "code",
   "execution_count": 10,
   "metadata": {},
   "outputs": [
    {
     "data": {
      "text/html": [
       "<div>\n",
       "<style scoped>\n",
       "    .dataframe tbody tr th:only-of-type {\n",
       "        vertical-align: middle;\n",
       "    }\n",
       "\n",
       "    .dataframe tbody tr th {\n",
       "        vertical-align: top;\n",
       "    }\n",
       "\n",
       "    .dataframe thead th {\n",
       "        text-align: right;\n",
       "    }\n",
       "</style>\n",
       "<table border=\"1\" class=\"dataframe\">\n",
       "  <thead>\n",
       "    <tr style=\"text-align: right;\">\n",
       "      <th></th>\n",
       "      <th>Week_end</th>\n",
       "      <th>Indicator</th>\n",
       "      <th>High_industry</th>\n",
       "      <th>Value</th>\n",
       "    </tr>\n",
       "  </thead>\n",
       "  <tbody>\n",
       "    <tr>\n",
       "      <th>0</th>\n",
       "      <td>05-05-2019</td>\n",
       "      <td>Number of paid jobs - 34 days</td>\n",
       "      <td>Total</td>\n",
       "      <td>2090110.0</td>\n",
       "    </tr>\n",
       "    <tr>\n",
       "      <th>1</th>\n",
       "      <td>12-05-2019</td>\n",
       "      <td>Number of paid jobs - 34 days</td>\n",
       "      <td>A Primary</td>\n",
       "      <td>95150.0</td>\n",
       "    </tr>\n",
       "    <tr>\n",
       "      <th>2</th>\n",
       "      <td>19-05-2019</td>\n",
       "      <td>Number of paid jobs - 34 days</td>\n",
       "      <td>B Goods Producing</td>\n",
       "      <td>405050.0</td>\n",
       "    </tr>\n",
       "    <tr>\n",
       "      <th>3</th>\n",
       "      <td>26-05-2019</td>\n",
       "      <td>Number of paid jobs - 34 days</td>\n",
       "      <td>C Services</td>\n",
       "      <td>1570740.0</td>\n",
       "    </tr>\n",
       "    <tr>\n",
       "      <th>4</th>\n",
       "      <td>02-06-2019</td>\n",
       "      <td>Number of paid jobs - 34 days</td>\n",
       "      <td>Z No Match</td>\n",
       "      <td>19170.0</td>\n",
       "    </tr>\n",
       "  </tbody>\n",
       "</table>\n",
       "</div>"
      ],
      "text/plain": [
       "     Week_end                      Indicator      High_industry      Value\n",
       "0  05-05-2019  Number of paid jobs - 34 days              Total  2090110.0\n",
       "1  12-05-2019  Number of paid jobs - 34 days          A Primary    95150.0\n",
       "2  19-05-2019  Number of paid jobs - 34 days  B Goods Producing   405050.0\n",
       "3  26-05-2019  Number of paid jobs - 34 days         C Services  1570740.0\n",
       "4  02-06-2019  Number of paid jobs - 34 days         Z No Match    19170.0"
      ]
     },
     "execution_count": 10,
     "metadata": {},
     "output_type": "execute_result"
    }
   ],
   "source": [
    "df.head()"
   ]
  },
  {
   "cell_type": "code",
   "execution_count": 11,
   "metadata": {},
   "outputs": [
    {
     "data": {
      "text/plain": [
       "Week_end          object\n",
       "Indicator         object\n",
       "High_industry     object\n",
       "Value            float64\n",
       "dtype: object"
      ]
     },
     "execution_count": 11,
     "metadata": {},
     "output_type": "execute_result"
    }
   ],
   "source": [
    "df.dtypes"
   ]
  },
  {
   "cell_type": "code",
   "execution_count": 12,
   "metadata": {},
   "outputs": [],
   "source": [
    "df['date_dt'] = pd.to_datetime(df['Week_end'])"
   ]
  },
  {
   "cell_type": "code",
   "execution_count": 13,
   "metadata": {},
   "outputs": [
    {
     "data": {
      "text/html": [
       "<div>\n",
       "<style scoped>\n",
       "    .dataframe tbody tr th:only-of-type {\n",
       "        vertical-align: middle;\n",
       "    }\n",
       "\n",
       "    .dataframe tbody tr th {\n",
       "        vertical-align: top;\n",
       "    }\n",
       "\n",
       "    .dataframe thead th {\n",
       "        text-align: right;\n",
       "    }\n",
       "</style>\n",
       "<table border=\"1\" class=\"dataframe\">\n",
       "  <thead>\n",
       "    <tr style=\"text-align: right;\">\n",
       "      <th></th>\n",
       "      <th>Week_end</th>\n",
       "      <th>Indicator</th>\n",
       "      <th>High_industry</th>\n",
       "      <th>Value</th>\n",
       "      <th>date_dt</th>\n",
       "    </tr>\n",
       "  </thead>\n",
       "  <tbody>\n",
       "    <tr>\n",
       "      <th>0</th>\n",
       "      <td>05-05-2019</td>\n",
       "      <td>Number of paid jobs - 34 days</td>\n",
       "      <td>Total</td>\n",
       "      <td>2090110.0</td>\n",
       "      <td>2019-05-05</td>\n",
       "    </tr>\n",
       "    <tr>\n",
       "      <th>1</th>\n",
       "      <td>12-05-2019</td>\n",
       "      <td>Number of paid jobs - 34 days</td>\n",
       "      <td>A Primary</td>\n",
       "      <td>95150.0</td>\n",
       "      <td>2019-12-05</td>\n",
       "    </tr>\n",
       "    <tr>\n",
       "      <th>2</th>\n",
       "      <td>19-05-2019</td>\n",
       "      <td>Number of paid jobs - 34 days</td>\n",
       "      <td>B Goods Producing</td>\n",
       "      <td>405050.0</td>\n",
       "      <td>2019-05-19</td>\n",
       "    </tr>\n",
       "    <tr>\n",
       "      <th>3</th>\n",
       "      <td>26-05-2019</td>\n",
       "      <td>Number of paid jobs - 34 days</td>\n",
       "      <td>C Services</td>\n",
       "      <td>1570740.0</td>\n",
       "      <td>2019-05-26</td>\n",
       "    </tr>\n",
       "    <tr>\n",
       "      <th>4</th>\n",
       "      <td>02-06-2019</td>\n",
       "      <td>Number of paid jobs - 34 days</td>\n",
       "      <td>Z No Match</td>\n",
       "      <td>19170.0</td>\n",
       "      <td>2019-02-06</td>\n",
       "    </tr>\n",
       "  </tbody>\n",
       "</table>\n",
       "</div>"
      ],
      "text/plain": [
       "     Week_end                      Indicator      High_industry      Value  \\\n",
       "0  05-05-2019  Number of paid jobs - 34 days              Total  2090110.0   \n",
       "1  12-05-2019  Number of paid jobs - 34 days          A Primary    95150.0   \n",
       "2  19-05-2019  Number of paid jobs - 34 days  B Goods Producing   405050.0   \n",
       "3  26-05-2019  Number of paid jobs - 34 days         C Services  1570740.0   \n",
       "4  02-06-2019  Number of paid jobs - 34 days         Z No Match    19170.0   \n",
       "\n",
       "     date_dt  \n",
       "0 2019-05-05  \n",
       "1 2019-12-05  \n",
       "2 2019-05-19  \n",
       "3 2019-05-26  \n",
       "4 2019-02-06  "
      ]
     },
     "execution_count": 13,
     "metadata": {},
     "output_type": "execute_result"
    }
   ],
   "source": [
    "df.head()"
   ]
  },
  {
   "cell_type": "code",
   "execution_count": 14,
   "metadata": {},
   "outputs": [
    {
     "data": {
      "text/plain": [
       "Week_end                 object\n",
       "Indicator                object\n",
       "High_industry            object\n",
       "Value                   float64\n",
       "date_dt          datetime64[ns]\n",
       "dtype: object"
      ]
     },
     "execution_count": 14,
     "metadata": {},
     "output_type": "execute_result"
    }
   ],
   "source": [
    "df.dtypes"
   ]
  },
  {
   "cell_type": "code",
   "execution_count": 15,
   "metadata": {},
   "outputs": [],
   "source": [
    "df['date_dt'] = pd.to_datetime(df['Week_end'], format='%d-%m-%Y')"
   ]
  },
  {
   "cell_type": "code",
   "execution_count": 16,
   "metadata": {},
   "outputs": [
    {
     "data": {
      "text/html": [
       "<div>\n",
       "<style scoped>\n",
       "    .dataframe tbody tr th:only-of-type {\n",
       "        vertical-align: middle;\n",
       "    }\n",
       "\n",
       "    .dataframe tbody tr th {\n",
       "        vertical-align: top;\n",
       "    }\n",
       "\n",
       "    .dataframe thead th {\n",
       "        text-align: right;\n",
       "    }\n",
       "</style>\n",
       "<table border=\"1\" class=\"dataframe\">\n",
       "  <thead>\n",
       "    <tr style=\"text-align: right;\">\n",
       "      <th></th>\n",
       "      <th>Week_end</th>\n",
       "      <th>Indicator</th>\n",
       "      <th>High_industry</th>\n",
       "      <th>Value</th>\n",
       "      <th>date_dt</th>\n",
       "    </tr>\n",
       "  </thead>\n",
       "  <tbody>\n",
       "    <tr>\n",
       "      <th>0</th>\n",
       "      <td>05-05-2019</td>\n",
       "      <td>Number of paid jobs - 34 days</td>\n",
       "      <td>Total</td>\n",
       "      <td>2090110.0</td>\n",
       "      <td>2019-05-05</td>\n",
       "    </tr>\n",
       "    <tr>\n",
       "      <th>1</th>\n",
       "      <td>12-05-2019</td>\n",
       "      <td>Number of paid jobs - 34 days</td>\n",
       "      <td>A Primary</td>\n",
       "      <td>95150.0</td>\n",
       "      <td>2019-05-12</td>\n",
       "    </tr>\n",
       "    <tr>\n",
       "      <th>2</th>\n",
       "      <td>19-05-2019</td>\n",
       "      <td>Number of paid jobs - 34 days</td>\n",
       "      <td>B Goods Producing</td>\n",
       "      <td>405050.0</td>\n",
       "      <td>2019-05-19</td>\n",
       "    </tr>\n",
       "    <tr>\n",
       "      <th>3</th>\n",
       "      <td>26-05-2019</td>\n",
       "      <td>Number of paid jobs - 34 days</td>\n",
       "      <td>C Services</td>\n",
       "      <td>1570740.0</td>\n",
       "      <td>2019-05-26</td>\n",
       "    </tr>\n",
       "    <tr>\n",
       "      <th>4</th>\n",
       "      <td>02-06-2019</td>\n",
       "      <td>Number of paid jobs - 34 days</td>\n",
       "      <td>Z No Match</td>\n",
       "      <td>19170.0</td>\n",
       "      <td>2019-06-02</td>\n",
       "    </tr>\n",
       "  </tbody>\n",
       "</table>\n",
       "</div>"
      ],
      "text/plain": [
       "     Week_end                      Indicator      High_industry      Value  \\\n",
       "0  05-05-2019  Number of paid jobs - 34 days              Total  2090110.0   \n",
       "1  12-05-2019  Number of paid jobs - 34 days          A Primary    95150.0   \n",
       "2  19-05-2019  Number of paid jobs - 34 days  B Goods Producing   405050.0   \n",
       "3  26-05-2019  Number of paid jobs - 34 days         C Services  1570740.0   \n",
       "4  02-06-2019  Number of paid jobs - 34 days         Z No Match    19170.0   \n",
       "\n",
       "     date_dt  \n",
       "0 2019-05-05  \n",
       "1 2019-05-12  \n",
       "2 2019-05-19  \n",
       "3 2019-05-26  \n",
       "4 2019-06-02  "
      ]
     },
     "execution_count": 16,
     "metadata": {},
     "output_type": "execute_result"
    }
   ],
   "source": [
    "df.head()"
   ]
  },
  {
   "cell_type": "code",
   "execution_count": 17,
   "metadata": {},
   "outputs": [],
   "source": [
    "d = pd.to_datetime('2022-02-28')"
   ]
  },
  {
   "cell_type": "code",
   "execution_count": 18,
   "metadata": {},
   "outputs": [
    {
     "data": {
      "text/plain": [
       "Timestamp('2022-02-28 00:00:00')"
      ]
     },
     "execution_count": 18,
     "metadata": {},
     "output_type": "execute_result"
    }
   ],
   "source": [
    "d"
   ]
  },
  {
   "cell_type": "code",
   "execution_count": 19,
   "metadata": {},
   "outputs": [
    {
     "data": {
      "text/plain": [
       "2022"
      ]
     },
     "execution_count": 19,
     "metadata": {},
     "output_type": "execute_result"
    }
   ],
   "source": [
    "d.year"
   ]
  },
  {
   "cell_type": "code",
   "execution_count": 20,
   "metadata": {},
   "outputs": [
    {
     "data": {
      "text/plain": [
       "2"
      ]
     },
     "execution_count": 20,
     "metadata": {},
     "output_type": "execute_result"
    }
   ],
   "source": [
    "d.month"
   ]
  },
  {
   "cell_type": "code",
   "execution_count": 21,
   "metadata": {},
   "outputs": [
    {
     "data": {
      "text/plain": [
       "28"
      ]
     },
     "execution_count": 21,
     "metadata": {},
     "output_type": "execute_result"
    }
   ],
   "source": [
    "d.day"
   ]
  },
  {
   "cell_type": "code",
   "execution_count": 22,
   "metadata": {},
   "outputs": [
    {
     "data": {
      "text/html": [
       "<div>\n",
       "<style scoped>\n",
       "    .dataframe tbody tr th:only-of-type {\n",
       "        vertical-align: middle;\n",
       "    }\n",
       "\n",
       "    .dataframe tbody tr th {\n",
       "        vertical-align: top;\n",
       "    }\n",
       "\n",
       "    .dataframe thead th {\n",
       "        text-align: right;\n",
       "    }\n",
       "</style>\n",
       "<table border=\"1\" class=\"dataframe\">\n",
       "  <thead>\n",
       "    <tr style=\"text-align: right;\">\n",
       "      <th></th>\n",
       "      <th>Week_end</th>\n",
       "      <th>Indicator</th>\n",
       "      <th>High_industry</th>\n",
       "      <th>Value</th>\n",
       "      <th>date_dt</th>\n",
       "    </tr>\n",
       "  </thead>\n",
       "  <tbody>\n",
       "    <tr>\n",
       "      <th>0</th>\n",
       "      <td>05-05-2019</td>\n",
       "      <td>Number of paid jobs - 34 days</td>\n",
       "      <td>Total</td>\n",
       "      <td>2090110.0</td>\n",
       "      <td>2019-05-05</td>\n",
       "    </tr>\n",
       "    <tr>\n",
       "      <th>1</th>\n",
       "      <td>12-05-2019</td>\n",
       "      <td>Number of paid jobs - 34 days</td>\n",
       "      <td>A Primary</td>\n",
       "      <td>95150.0</td>\n",
       "      <td>2019-05-12</td>\n",
       "    </tr>\n",
       "    <tr>\n",
       "      <th>2</th>\n",
       "      <td>19-05-2019</td>\n",
       "      <td>Number of paid jobs - 34 days</td>\n",
       "      <td>B Goods Producing</td>\n",
       "      <td>405050.0</td>\n",
       "      <td>2019-05-19</td>\n",
       "    </tr>\n",
       "    <tr>\n",
       "      <th>3</th>\n",
       "      <td>26-05-2019</td>\n",
       "      <td>Number of paid jobs - 34 days</td>\n",
       "      <td>C Services</td>\n",
       "      <td>1570740.0</td>\n",
       "      <td>2019-05-26</td>\n",
       "    </tr>\n",
       "    <tr>\n",
       "      <th>4</th>\n",
       "      <td>02-06-2019</td>\n",
       "      <td>Number of paid jobs - 34 days</td>\n",
       "      <td>Z No Match</td>\n",
       "      <td>19170.0</td>\n",
       "      <td>2019-06-02</td>\n",
       "    </tr>\n",
       "  </tbody>\n",
       "</table>\n",
       "</div>"
      ],
      "text/plain": [
       "     Week_end                      Indicator      High_industry      Value  \\\n",
       "0  05-05-2019  Number of paid jobs - 34 days              Total  2090110.0   \n",
       "1  12-05-2019  Number of paid jobs - 34 days          A Primary    95150.0   \n",
       "2  19-05-2019  Number of paid jobs - 34 days  B Goods Producing   405050.0   \n",
       "3  26-05-2019  Number of paid jobs - 34 days         C Services  1570740.0   \n",
       "4  02-06-2019  Number of paid jobs - 34 days         Z No Match    19170.0   \n",
       "\n",
       "     date_dt  \n",
       "0 2019-05-05  \n",
       "1 2019-05-12  \n",
       "2 2019-05-19  \n",
       "3 2019-05-26  \n",
       "4 2019-06-02  "
      ]
     },
     "execution_count": 22,
     "metadata": {},
     "output_type": "execute_result"
    }
   ],
   "source": [
    "df.head()"
   ]
  },
  {
   "cell_type": "code",
   "execution_count": 23,
   "metadata": {},
   "outputs": [],
   "source": [
    "# We can create a new year column based on the Date column.\n",
    "df['year'] = df['date_dt'].dt.year"
   ]
  },
  {
   "cell_type": "code",
   "execution_count": 24,
   "metadata": {},
   "outputs": [
    {
     "data": {
      "text/html": [
       "<div>\n",
       "<style scoped>\n",
       "    .dataframe tbody tr th:only-of-type {\n",
       "        vertical-align: middle;\n",
       "    }\n",
       "\n",
       "    .dataframe tbody tr th {\n",
       "        vertical-align: top;\n",
       "    }\n",
       "\n",
       "    .dataframe thead th {\n",
       "        text-align: right;\n",
       "    }\n",
       "</style>\n",
       "<table border=\"1\" class=\"dataframe\">\n",
       "  <thead>\n",
       "    <tr style=\"text-align: right;\">\n",
       "      <th></th>\n",
       "      <th>Week_end</th>\n",
       "      <th>Indicator</th>\n",
       "      <th>High_industry</th>\n",
       "      <th>Value</th>\n",
       "      <th>date_dt</th>\n",
       "      <th>year</th>\n",
       "    </tr>\n",
       "  </thead>\n",
       "  <tbody>\n",
       "    <tr>\n",
       "      <th>0</th>\n",
       "      <td>05-05-2019</td>\n",
       "      <td>Number of paid jobs - 34 days</td>\n",
       "      <td>Total</td>\n",
       "      <td>2090110.0</td>\n",
       "      <td>2019-05-05</td>\n",
       "      <td>2019</td>\n",
       "    </tr>\n",
       "    <tr>\n",
       "      <th>1</th>\n",
       "      <td>12-05-2019</td>\n",
       "      <td>Number of paid jobs - 34 days</td>\n",
       "      <td>A Primary</td>\n",
       "      <td>95150.0</td>\n",
       "      <td>2019-05-12</td>\n",
       "      <td>2019</td>\n",
       "    </tr>\n",
       "    <tr>\n",
       "      <th>2</th>\n",
       "      <td>19-05-2019</td>\n",
       "      <td>Number of paid jobs - 34 days</td>\n",
       "      <td>B Goods Producing</td>\n",
       "      <td>405050.0</td>\n",
       "      <td>2019-05-19</td>\n",
       "      <td>2019</td>\n",
       "    </tr>\n",
       "    <tr>\n",
       "      <th>3</th>\n",
       "      <td>26-05-2019</td>\n",
       "      <td>Number of paid jobs - 34 days</td>\n",
       "      <td>C Services</td>\n",
       "      <td>1570740.0</td>\n",
       "      <td>2019-05-26</td>\n",
       "      <td>2019</td>\n",
       "    </tr>\n",
       "    <tr>\n",
       "      <th>4</th>\n",
       "      <td>02-06-2019</td>\n",
       "      <td>Number of paid jobs - 34 days</td>\n",
       "      <td>Z No Match</td>\n",
       "      <td>19170.0</td>\n",
       "      <td>2019-06-02</td>\n",
       "      <td>2019</td>\n",
       "    </tr>\n",
       "  </tbody>\n",
       "</table>\n",
       "</div>"
      ],
      "text/plain": [
       "     Week_end                      Indicator      High_industry      Value  \\\n",
       "0  05-05-2019  Number of paid jobs - 34 days              Total  2090110.0   \n",
       "1  12-05-2019  Number of paid jobs - 34 days          A Primary    95150.0   \n",
       "2  19-05-2019  Number of paid jobs - 34 days  B Goods Producing   405050.0   \n",
       "3  26-05-2019  Number of paid jobs - 34 days         C Services  1570740.0   \n",
       "4  02-06-2019  Number of paid jobs - 34 days         Z No Match    19170.0   \n",
       "\n",
       "     date_dt  year  \n",
       "0 2019-05-05  2019  \n",
       "1 2019-05-12  2019  \n",
       "2 2019-05-19  2019  \n",
       "3 2019-05-26  2019  \n",
       "4 2019-06-02  2019  "
      ]
     },
     "execution_count": 24,
     "metadata": {},
     "output_type": "execute_result"
    }
   ],
   "source": [
    "df.head()"
   ]
  },
  {
   "cell_type": "code",
   "execution_count": 25,
   "metadata": {},
   "outputs": [],
   "source": [
    "df['month'] = df['date_dt'].dt.month"
   ]
  },
  {
   "cell_type": "code",
   "execution_count": 26,
   "metadata": {},
   "outputs": [
    {
     "data": {
      "text/html": [
       "<div>\n",
       "<style scoped>\n",
       "    .dataframe tbody tr th:only-of-type {\n",
       "        vertical-align: middle;\n",
       "    }\n",
       "\n",
       "    .dataframe tbody tr th {\n",
       "        vertical-align: top;\n",
       "    }\n",
       "\n",
       "    .dataframe thead th {\n",
       "        text-align: right;\n",
       "    }\n",
       "</style>\n",
       "<table border=\"1\" class=\"dataframe\">\n",
       "  <thead>\n",
       "    <tr style=\"text-align: right;\">\n",
       "      <th></th>\n",
       "      <th>Week_end</th>\n",
       "      <th>Indicator</th>\n",
       "      <th>High_industry</th>\n",
       "      <th>Value</th>\n",
       "      <th>date_dt</th>\n",
       "      <th>year</th>\n",
       "      <th>month</th>\n",
       "    </tr>\n",
       "  </thead>\n",
       "  <tbody>\n",
       "    <tr>\n",
       "      <th>0</th>\n",
       "      <td>05-05-2019</td>\n",
       "      <td>Number of paid jobs - 34 days</td>\n",
       "      <td>Total</td>\n",
       "      <td>2090110.0</td>\n",
       "      <td>2019-05-05</td>\n",
       "      <td>2019</td>\n",
       "      <td>5</td>\n",
       "    </tr>\n",
       "    <tr>\n",
       "      <th>1</th>\n",
       "      <td>12-05-2019</td>\n",
       "      <td>Number of paid jobs - 34 days</td>\n",
       "      <td>A Primary</td>\n",
       "      <td>95150.0</td>\n",
       "      <td>2019-05-12</td>\n",
       "      <td>2019</td>\n",
       "      <td>5</td>\n",
       "    </tr>\n",
       "    <tr>\n",
       "      <th>2</th>\n",
       "      <td>19-05-2019</td>\n",
       "      <td>Number of paid jobs - 34 days</td>\n",
       "      <td>B Goods Producing</td>\n",
       "      <td>405050.0</td>\n",
       "      <td>2019-05-19</td>\n",
       "      <td>2019</td>\n",
       "      <td>5</td>\n",
       "    </tr>\n",
       "    <tr>\n",
       "      <th>3</th>\n",
       "      <td>26-05-2019</td>\n",
       "      <td>Number of paid jobs - 34 days</td>\n",
       "      <td>C Services</td>\n",
       "      <td>1570740.0</td>\n",
       "      <td>2019-05-26</td>\n",
       "      <td>2019</td>\n",
       "      <td>5</td>\n",
       "    </tr>\n",
       "    <tr>\n",
       "      <th>4</th>\n",
       "      <td>02-06-2019</td>\n",
       "      <td>Number of paid jobs - 34 days</td>\n",
       "      <td>Z No Match</td>\n",
       "      <td>19170.0</td>\n",
       "      <td>2019-06-02</td>\n",
       "      <td>2019</td>\n",
       "      <td>6</td>\n",
       "    </tr>\n",
       "  </tbody>\n",
       "</table>\n",
       "</div>"
      ],
      "text/plain": [
       "     Week_end                      Indicator      High_industry      Value  \\\n",
       "0  05-05-2019  Number of paid jobs - 34 days              Total  2090110.0   \n",
       "1  12-05-2019  Number of paid jobs - 34 days          A Primary    95150.0   \n",
       "2  19-05-2019  Number of paid jobs - 34 days  B Goods Producing   405050.0   \n",
       "3  26-05-2019  Number of paid jobs - 34 days         C Services  1570740.0   \n",
       "4  02-06-2019  Number of paid jobs - 34 days         Z No Match    19170.0   \n",
       "\n",
       "     date_dt  year  month  \n",
       "0 2019-05-05  2019      5  \n",
       "1 2019-05-12  2019      5  \n",
       "2 2019-05-19  2019      5  \n",
       "3 2019-05-26  2019      5  \n",
       "4 2019-06-02  2019      6  "
      ]
     },
     "execution_count": 26,
     "metadata": {},
     "output_type": "execute_result"
    }
   ],
   "source": [
    "df.head()"
   ]
  },
  {
   "cell_type": "code",
   "execution_count": 27,
   "metadata": {},
   "outputs": [],
   "source": [
    "df['day'] = df['date_dt'].dt.day"
   ]
  },
  {
   "cell_type": "code",
   "execution_count": 28,
   "metadata": {},
   "outputs": [
    {
     "data": {
      "text/html": [
       "<div>\n",
       "<style scoped>\n",
       "    .dataframe tbody tr th:only-of-type {\n",
       "        vertical-align: middle;\n",
       "    }\n",
       "\n",
       "    .dataframe tbody tr th {\n",
       "        vertical-align: top;\n",
       "    }\n",
       "\n",
       "    .dataframe thead th {\n",
       "        text-align: right;\n",
       "    }\n",
       "</style>\n",
       "<table border=\"1\" class=\"dataframe\">\n",
       "  <thead>\n",
       "    <tr style=\"text-align: right;\">\n",
       "      <th></th>\n",
       "      <th>Week_end</th>\n",
       "      <th>Indicator</th>\n",
       "      <th>High_industry</th>\n",
       "      <th>Value</th>\n",
       "      <th>date_dt</th>\n",
       "      <th>year</th>\n",
       "      <th>month</th>\n",
       "      <th>day</th>\n",
       "    </tr>\n",
       "  </thead>\n",
       "  <tbody>\n",
       "    <tr>\n",
       "      <th>0</th>\n",
       "      <td>05-05-2019</td>\n",
       "      <td>Number of paid jobs - 34 days</td>\n",
       "      <td>Total</td>\n",
       "      <td>2090110.0</td>\n",
       "      <td>2019-05-05</td>\n",
       "      <td>2019</td>\n",
       "      <td>5</td>\n",
       "      <td>5</td>\n",
       "    </tr>\n",
       "    <tr>\n",
       "      <th>1</th>\n",
       "      <td>12-05-2019</td>\n",
       "      <td>Number of paid jobs - 34 days</td>\n",
       "      <td>A Primary</td>\n",
       "      <td>95150.0</td>\n",
       "      <td>2019-05-12</td>\n",
       "      <td>2019</td>\n",
       "      <td>5</td>\n",
       "      <td>12</td>\n",
       "    </tr>\n",
       "    <tr>\n",
       "      <th>2</th>\n",
       "      <td>19-05-2019</td>\n",
       "      <td>Number of paid jobs - 34 days</td>\n",
       "      <td>B Goods Producing</td>\n",
       "      <td>405050.0</td>\n",
       "      <td>2019-05-19</td>\n",
       "      <td>2019</td>\n",
       "      <td>5</td>\n",
       "      <td>19</td>\n",
       "    </tr>\n",
       "    <tr>\n",
       "      <th>3</th>\n",
       "      <td>26-05-2019</td>\n",
       "      <td>Number of paid jobs - 34 days</td>\n",
       "      <td>C Services</td>\n",
       "      <td>1570740.0</td>\n",
       "      <td>2019-05-26</td>\n",
       "      <td>2019</td>\n",
       "      <td>5</td>\n",
       "      <td>26</td>\n",
       "    </tr>\n",
       "    <tr>\n",
       "      <th>4</th>\n",
       "      <td>02-06-2019</td>\n",
       "      <td>Number of paid jobs - 34 days</td>\n",
       "      <td>Z No Match</td>\n",
       "      <td>19170.0</td>\n",
       "      <td>2019-06-02</td>\n",
       "      <td>2019</td>\n",
       "      <td>6</td>\n",
       "      <td>2</td>\n",
       "    </tr>\n",
       "  </tbody>\n",
       "</table>\n",
       "</div>"
      ],
      "text/plain": [
       "     Week_end                      Indicator      High_industry      Value  \\\n",
       "0  05-05-2019  Number of paid jobs - 34 days              Total  2090110.0   \n",
       "1  12-05-2019  Number of paid jobs - 34 days          A Primary    95150.0   \n",
       "2  19-05-2019  Number of paid jobs - 34 days  B Goods Producing   405050.0   \n",
       "3  26-05-2019  Number of paid jobs - 34 days         C Services  1570740.0   \n",
       "4  02-06-2019  Number of paid jobs - 34 days         Z No Match    19170.0   \n",
       "\n",
       "     date_dt  year  month  day  \n",
       "0 2019-05-05  2019      5    5  \n",
       "1 2019-05-12  2019      5   12  \n",
       "2 2019-05-19  2019      5   19  \n",
       "3 2019-05-26  2019      5   26  \n",
       "4 2019-06-02  2019      6    2  "
      ]
     },
     "execution_count": 28,
     "metadata": {},
     "output_type": "execute_result"
    }
   ],
   "source": [
    "df.head()"
   ]
  },
  {
   "cell_type": "code",
   "execution_count": 30,
   "metadata": {},
   "outputs": [],
   "source": [
    "df['quarter'] = df['date_dt'].dt.quarter"
   ]
  },
  {
   "cell_type": "code",
   "execution_count": 31,
   "metadata": {},
   "outputs": [
    {
     "data": {
      "text/html": [
       "<div>\n",
       "<style scoped>\n",
       "    .dataframe tbody tr th:only-of-type {\n",
       "        vertical-align: middle;\n",
       "    }\n",
       "\n",
       "    .dataframe tbody tr th {\n",
       "        vertical-align: top;\n",
       "    }\n",
       "\n",
       "    .dataframe thead th {\n",
       "        text-align: right;\n",
       "    }\n",
       "</style>\n",
       "<table border=\"1\" class=\"dataframe\">\n",
       "  <thead>\n",
       "    <tr style=\"text-align: right;\">\n",
       "      <th></th>\n",
       "      <th>Week_end</th>\n",
       "      <th>Indicator</th>\n",
       "      <th>High_industry</th>\n",
       "      <th>Value</th>\n",
       "      <th>date_dt</th>\n",
       "      <th>year</th>\n",
       "      <th>month</th>\n",
       "      <th>day</th>\n",
       "      <th>quarter</th>\n",
       "    </tr>\n",
       "  </thead>\n",
       "  <tbody>\n",
       "    <tr>\n",
       "      <th>0</th>\n",
       "      <td>05-05-2019</td>\n",
       "      <td>Number of paid jobs - 34 days</td>\n",
       "      <td>Total</td>\n",
       "      <td>2090110.0</td>\n",
       "      <td>2019-05-05</td>\n",
       "      <td>2019</td>\n",
       "      <td>5</td>\n",
       "      <td>5</td>\n",
       "      <td>2</td>\n",
       "    </tr>\n",
       "    <tr>\n",
       "      <th>1</th>\n",
       "      <td>12-05-2019</td>\n",
       "      <td>Number of paid jobs - 34 days</td>\n",
       "      <td>A Primary</td>\n",
       "      <td>95150.0</td>\n",
       "      <td>2019-05-12</td>\n",
       "      <td>2019</td>\n",
       "      <td>5</td>\n",
       "      <td>12</td>\n",
       "      <td>2</td>\n",
       "    </tr>\n",
       "    <tr>\n",
       "      <th>2</th>\n",
       "      <td>19-05-2019</td>\n",
       "      <td>Number of paid jobs - 34 days</td>\n",
       "      <td>B Goods Producing</td>\n",
       "      <td>405050.0</td>\n",
       "      <td>2019-05-19</td>\n",
       "      <td>2019</td>\n",
       "      <td>5</td>\n",
       "      <td>19</td>\n",
       "      <td>2</td>\n",
       "    </tr>\n",
       "    <tr>\n",
       "      <th>3</th>\n",
       "      <td>26-05-2019</td>\n",
       "      <td>Number of paid jobs - 34 days</td>\n",
       "      <td>C Services</td>\n",
       "      <td>1570740.0</td>\n",
       "      <td>2019-05-26</td>\n",
       "      <td>2019</td>\n",
       "      <td>5</td>\n",
       "      <td>26</td>\n",
       "      <td>2</td>\n",
       "    </tr>\n",
       "    <tr>\n",
       "      <th>4</th>\n",
       "      <td>02-06-2019</td>\n",
       "      <td>Number of paid jobs - 34 days</td>\n",
       "      <td>Z No Match</td>\n",
       "      <td>19170.0</td>\n",
       "      <td>2019-06-02</td>\n",
       "      <td>2019</td>\n",
       "      <td>6</td>\n",
       "      <td>2</td>\n",
       "      <td>2</td>\n",
       "    </tr>\n",
       "  </tbody>\n",
       "</table>\n",
       "</div>"
      ],
      "text/plain": [
       "     Week_end                      Indicator      High_industry      Value  \\\n",
       "0  05-05-2019  Number of paid jobs - 34 days              Total  2090110.0   \n",
       "1  12-05-2019  Number of paid jobs - 34 days          A Primary    95150.0   \n",
       "2  19-05-2019  Number of paid jobs - 34 days  B Goods Producing   405050.0   \n",
       "3  26-05-2019  Number of paid jobs - 34 days         C Services  1570740.0   \n",
       "4  02-06-2019  Number of paid jobs - 34 days         Z No Match    19170.0   \n",
       "\n",
       "     date_dt  year  month  day  quarter  \n",
       "0 2019-05-05  2019      5    5        2  \n",
       "1 2019-05-12  2019      5   12        2  \n",
       "2 2019-05-19  2019      5   19        2  \n",
       "3 2019-05-26  2019      5   26        2  \n",
       "4 2019-06-02  2019      6    2        2  "
      ]
     },
     "execution_count": 31,
     "metadata": {},
     "output_type": "execute_result"
    }
   ],
   "source": [
    "df.head()"
   ]
  },
  {
   "cell_type": "code",
   "execution_count": 29,
   "metadata": {},
   "outputs": [
    {
     "data": {
      "text/plain": [
       "Timestamp('2019-05-05 00:00:00')"
      ]
     },
     "execution_count": 29,
     "metadata": {},
     "output_type": "execute_result"
    }
   ],
   "source": [
    "df['date_dt'].min()"
   ]
  },
  {
   "cell_type": "code",
   "execution_count": null,
   "metadata": {},
   "outputs": [],
   "source": []
  }
 ],
 "metadata": {
  "kernelspec": {
   "display_name": "Python 3",
   "language": "python",
   "name": "python3"
  },
  "language_info": {
   "codemirror_mode": {
    "name": "ipython",
    "version": 3
   },
   "file_extension": ".py",
   "mimetype": "text/x-python",
   "name": "python",
   "nbconvert_exporter": "python",
   "pygments_lexer": "ipython3",
   "version": "3.8.3"
  }
 },
 "nbformat": 4,
 "nbformat_minor": 4
}
